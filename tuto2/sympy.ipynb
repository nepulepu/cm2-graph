{
 "metadata": {
  "language_info": {
   "codemirror_mode": {
    "name": "ipython",
    "version": 3
   },
   "file_extension": ".py",
   "mimetype": "text/x-python",
   "name": "python",
   "nbconvert_exporter": "python",
   "pygments_lexer": "ipython3",
   "version": "3.9.2-final"
  },
  "orig_nbformat": 2,
  "kernelspec": {
   "name": "python3",
   "display_name": "Python 3.9.2 64-bit",
   "metadata": {
    "interpreter": {
     "hash": "ac59ebe37160ed0dfa835113d9b8498d9f09ceb179beaac4002f036b9467c963"
    }
   }
  }
 },
 "nbformat": 4,
 "nbformat_minor": 2,
 "cells": [
  {
   "cell_type": "code",
   "execution_count": 63,
   "metadata": {},
   "outputs": [],
   "source": [
    "import matplotlib.pyplot as plt\n",
    "import numpy as np\n",
    "import math\n",
    "from sympy import *\n",
    "from sympy.abc import x,y,a,b"
   ]
  },
  {
   "source": [
    "## Question 9a\n"
   ],
   "cell_type": "markdown",
   "metadata": {}
  },
  {
   "cell_type": "code",
   "execution_count": 54,
   "metadata": {},
   "outputs": [
    {
     "output_type": "execute_result",
     "data": {
      "text/plain": [
       "x**(-2)"
      ],
      "text/latex": "$\\displaystyle \\frac{1}{x^{2}}$"
     },
     "metadata": {},
     "execution_count": 54
    }
   ],
   "source": [
    "expr9a = 1/x**2\n",
    "expr9a"
   ]
  },
  {
   "cell_type": "code",
   "execution_count": 55,
   "metadata": {},
   "outputs": [
    {
     "output_type": "execute_result",
     "data": {
      "text/plain": [
       "-2/x**3"
      ],
      "text/latex": "$\\displaystyle - \\frac{2}{x^{3}}$"
     },
     "metadata": {},
     "execution_count": 55
    }
   ],
   "source": [
    "diff(expr9a)"
   ]
  },
  {
   "source": [
    "## Question 9b"
   ],
   "cell_type": "markdown",
   "metadata": {}
  },
  {
   "cell_type": "code",
   "execution_count": 58,
   "metadata": {},
   "outputs": [
    {
     "output_type": "execute_result",
     "data": {
      "text/plain": [
       "(x**2)**(1/3)"
      ],
      "text/latex": "$\\displaystyle \\sqrt[3]{x^{2}}$"
     },
     "metadata": {},
     "execution_count": 58
    }
   ],
   "source": [
    "expr9b = cbrt(x**2)\n",
    "expr9b"
   ]
  },
  {
   "cell_type": "code",
   "execution_count": 59,
   "metadata": {},
   "outputs": [
    {
     "output_type": "execute_result",
     "data": {
      "text/plain": [
       "2*(x**2)**(1/3)/(3*x)"
      ],
      "text/latex": "$\\displaystyle \\frac{2 \\sqrt[3]{x^{2}}}{3 x}$"
     },
     "metadata": {},
     "execution_count": 59
    }
   ],
   "source": [
    "diff(expr9b,x)"
   ]
  },
  {
   "source": [
    "## Question 10"
   ],
   "cell_type": "markdown",
   "metadata": {}
  },
  {
   "cell_type": "code",
   "execution_count": 60,
   "metadata": {},
   "outputs": [
    {
     "output_type": "execute_result",
     "data": {
      "text/plain": [
       "sqrt(x)*(a + b*x)"
      ],
      "text/latex": "$\\displaystyle \\sqrt{x} \\left(a + b x\\right)$"
     },
     "metadata": {},
     "execution_count": 60
    }
   ],
   "source": [
    "expr10= sqrt(x)*(a+b*x)\n",
    "expr10"
   ]
  },
  {
   "cell_type": "code",
   "execution_count": 61,
   "metadata": {},
   "outputs": [
    {
     "output_type": "execute_result",
     "data": {
      "text/plain": [
       "b*sqrt(x) + (a + b*x)/(2*sqrt(x))"
      ],
      "text/latex": "$\\displaystyle b \\sqrt{x} + \\frac{a + b x}{2 \\sqrt{x}}$"
     },
     "metadata": {},
     "execution_count": 61
    }
   ],
   "source": [
    "diff(expr10,x)"
   ]
  },
  {
   "source": [
    "## Question 14"
   ],
   "cell_type": "markdown",
   "metadata": {}
  },
  {
   "cell_type": "code",
   "execution_count": 70,
   "metadata": {},
   "outputs": [
    {
     "output_type": "execute_result",
     "data": {
      "text/plain": [
       "Eq(x**2 + y**3, 4)"
      ],
      "text/latex": "$\\displaystyle x^{2} + y^{3} = 4$"
     },
     "metadata": {},
     "execution_count": 70
    }
   ],
   "source": [
    "expr14a = Eq(x**2 + y**3,4)\n",
    "expr14a"
   ]
  },
  {
   "cell_type": "code",
   "execution_count": 72,
   "metadata": {},
   "outputs": [
    {
     "output_type": "execute_result",
     "data": {
      "text/plain": [
       "Eq(y, (4 - x**2)**(1/3))"
      ],
      "text/latex": "$\\displaystyle y = \\sqrt[3]{4 - x^{2}}$"
     },
     "metadata": {},
     "execution_count": 72
    }
   ],
   "source": [
    "expr14a = Eq(y,cbrt(4-x**2))\n",
    "expr14a"
   ]
  },
  {
   "cell_type": "code",
   "execution_count": 74,
   "metadata": {},
   "outputs": [
    {
     "output_type": "execute_result",
     "data": {
      "text/plain": [
       "-2*x/(3*(4 - x**2)**(2/3))"
      ],
      "text/latex": "$\\displaystyle - \\frac{2 x}{3 \\left(4 - x^{2}\\right)^{\\frac{2}{3}}}$"
     },
     "metadata": {},
     "execution_count": 74
    }
   ],
   "source": [
    "expr14a= cbrt(4-x**2)\n",
    "diff(expr14a,x)"
   ]
  },
  {
   "cell_type": "code",
   "execution_count": 89,
   "metadata": {},
   "outputs": [
    {
     "output_type": "execute_result",
     "data": {
      "text/plain": [
       "Eq(x**2 + y**3, 4)"
      ],
      "text/latex": "$\\displaystyle x^{2} + y^{3} = 4$"
     },
     "metadata": {},
     "execution_count": 89
    }
   ],
   "source": [
    "expr14b =Eq(x**2+y**3,4)\n",
    "expr14b "
   ]
  },
  {
   "source": [
    "change to equals to 0"
   ],
   "cell_type": "markdown",
   "metadata": {}
  },
  {
   "cell_type": "code",
   "execution_count": 91,
   "metadata": {},
   "outputs": [
    {
     "output_type": "execute_result",
     "data": {
      "text/plain": [
       "x**2 + y**3 - 4"
      ],
      "text/latex": "$\\displaystyle x^{2} + y^{3} - 4$"
     },
     "metadata": {},
     "execution_count": 91
    }
   ],
   "source": [
    "expr14b = x**2+y**3-4\n",
    "expr14b"
   ]
  },
  {
   "cell_type": "code",
   "execution_count": 92,
   "metadata": {},
   "outputs": [
    {
     "output_type": "execute_result",
     "data": {
      "text/plain": [
       "-2*x/(3*y**2)"
      ],
      "text/latex": "$\\displaystyle - \\frac{2 x}{3 y^{2}}$"
     },
     "metadata": {},
     "execution_count": 92
    }
   ],
   "source": [
    "idiff(expr14b,y,x,n=1)"
   ]
  }
 ]
}