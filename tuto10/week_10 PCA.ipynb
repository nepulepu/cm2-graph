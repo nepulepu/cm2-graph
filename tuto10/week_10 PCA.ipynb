{
  "nbformat": 4,
  "nbformat_minor": 0,
  "metadata": {
    "orig_nbformat": 2,
    "colab": {
      "name": "week-10.ipynb",
      "provenance": []
    },
    "language_info": {
      "name": "python"
    },
    "kernelspec": {
      "name": "python3",
      "display_name": "Python 3"
    }
  },
  "cells": [
    {
      "cell_type": "markdown",
      "metadata": {
        "id": "u5-jlMZ9AwCk"
      },
      "source": [
        "## Week 10 exercise (PCA)\n",
        "## name: Muhamad Azri Anwar bin Azahar\n",
        "## matrix number: 17112653/2"
      ]
    },
    {
      "cell_type": "code",
      "metadata": {
        "id": "RbumZ_IqBcBS"
      },
      "source": [
        "import numpy as np\n",
        "import pandas as pd\n",
        "import matplotlib.pyplot as plt"
      ],
      "execution_count": 107,
      "outputs": []
    },
    {
      "cell_type": "code",
      "metadata": {
        "colab": {
          "base_uri": "https://localhost:8080/"
        },
        "id": "2eczUEzaAwCq",
        "outputId": "3f1a7471-b7e4-4037-e8dc-d8d9e1a4f858"
      },
      "source": [
        "array=np.matrix([[1,2,3,4],\n",
        "                 [5,5,6,7],\n",
        "                 [1,4,2,3],\n",
        "                 [5,3,2,1],\n",
        "                 [8,1,2,2]])\n",
        "df=pd.DataFrame(array,columns=['f1','f2','f3','f4'])\n",
        "df_mean=df.mean()\n",
        "df_sd=df.std()\n",
        "df_std=(df-df.mean())/(df.std())\n",
        "print(df_mean , \"\\n\")\n",
        "print(df_sd , \"\\n\")\n",
        "print(df_std)"
      ],
      "execution_count": 94,
      "outputs": [
        {
          "output_type": "stream",
          "text": [
            "f1    4.0\n",
            "f2    3.0\n",
            "f3    3.0\n",
            "f4    3.4\n",
            "dtype: float64 \n",
            "\n",
            "f1    3.000000\n",
            "f2    1.581139\n",
            "f3    1.732051\n",
            "f4    2.302173\n",
            "dtype: float64 \n",
            "\n",
            "         f1        f2        f3        f4\n",
            "0 -1.000000 -0.632456  0.000000  0.260623\n",
            "1  0.333333  1.264911  1.732051  1.563740\n",
            "2 -1.000000  0.632456 -0.577350 -0.173749\n",
            "3  0.333333  0.000000 -0.577350 -1.042493\n",
            "4  1.333333 -1.264911 -0.577350 -0.608121\n"
          ],
          "name": "stdout"
        }
      ]
    },
    {
      "cell_type": "code",
      "metadata": {
        "colab": {
          "base_uri": "https://localhost:8080/"
        },
        "id": "voaxc7jiFJmA",
        "outputId": "94e88363-2835-4d81-f89d-e4bc645a7223"
      },
      "source": [
        "df_cov = df_std.cov(ddof=0)\n",
        "print(df_cov)"
      ],
      "execution_count": 95,
      "outputs": [
        {
          "output_type": "stream",
          "text": [
            "          f1        f2        f3        f4\n",
            "f1  0.800000 -0.252982  0.038490 -0.144791\n",
            "f2 -0.252982  0.800000  0.511208  0.494498\n",
            "f3  0.038490  0.511208  0.800000  0.752355\n",
            "f4 -0.144791  0.494498  0.752355  0.800000\n"
          ],
          "name": "stdout"
        }
      ]
    },
    {
      "cell_type": "code",
      "metadata": {
        "colab": {
          "base_uri": "https://localhost:8080/"
        },
        "id": "yrUO8GeWhm3h",
        "outputId": "3bc5d242-1303-4ca8-9478-ca71a9dc4166"
      },
      "source": [
        "df_eigen_v,df_eigen_vector=np.linalg.eig(df_cov.to_numpy())\n",
        "print(\"eigen value \\n\",df_eigen_v)\n",
        "print(\"eigen vector \\n\",df_eigen_vector)"
      ],
      "execution_count": 97,
      "outputs": [
        {
          "output_type": "stream",
          "text": [
            "eigen value \n",
            " [2.01263459 0.8522308  0.31510964 0.02002497]\n",
            "eigen vector \n",
            " [[ 0.16195986 -0.91705888 -0.30707099  0.19616173]\n",
            " [-0.52404813  0.20692161 -0.81731886  0.12061043]\n",
            " [-0.58589647 -0.3205394   0.1882497  -0.72009851]\n",
            " [-0.59654663 -0.11593512  0.44973251  0.65454704]]\n"
          ],
          "name": "stdout"
        }
      ]
    },
    {
      "cell_type": "code",
      "metadata": {
        "colab": {
          "base_uri": "https://localhost:8080/"
        },
        "id": "JL_f1GkeidDc",
        "outputId": "0828475c-3e03-481e-aaec-0893da69da2f"
      },
      "source": [
        "k=1\n",
        "error=[]\n",
        "while(k<=4):\n",
        "  print(\"k=\",k)\n",
        "  checker=df_eigen_vector[:,0:k]\n",
        "  # print(checker)\n",
        "  array_check=np.dot(df_std,checker)\n",
        "  print(\"transformed matrix \\n\",array_check)\n",
        "  array_check=np.dot(array_check,np.linalg.pinv(checker))\n",
        "  print(\"re standardized\\n\",array_check)\n",
        "  array_check=(array_check*df_sd.to_numpy())+df_mean.to_numpy()\n",
        "  print(\"back computed matrix transform \\n\",array_check)\n",
        "  mse=(np.square(array - array_check)).mean(axis=None)\n",
        "  error.append(mse)\n",
        "  print(\"error \\n\",mse,\"\\n\")\n",
        "  k+=1"
      ],
      "execution_count": 110,
      "outputs": [
        {
          "output_type": "stream",
          "text": [
            "k= 1\n",
            "transformed matrix \n",
            " [[ 0.01400331]\n",
            " [-2.55653399]\n",
            " [-0.05148019]\n",
            " [ 1.01415002]\n",
            " [ 1.57986086]]\n",
            "re standardized\n",
            " [[ 0.00226797 -0.00733841 -0.00820449 -0.00835363]\n",
            " [-0.41405588  1.33974687  1.49786425  1.52509174]\n",
            " [-0.00833772  0.0269781   0.03016206  0.03071033]\n",
            " [ 0.16425159 -0.53146343 -0.59418692 -0.60498778]\n",
            " [ 0.25587404 -0.82792314 -0.92563491 -0.94246067]]\n",
            "back computed matrix transform \n",
            " [[4.00680392 2.98839696 2.98578941 3.38076851]\n",
            " [2.75783237 5.1183258  5.59437698 6.91102485]\n",
            " [3.97498683 3.04265612 3.05224223 3.4707005 ]\n",
            " [4.49275477 2.15968254 1.97083807 2.00721355]\n",
            " [4.76762211 1.69093858 1.39675331 1.2302926 ]]\n",
            "error \n",
            " 2.028590875797744 \n",
            "\n",
            "k= 2\n",
            "transformed matrix \n",
            " [[ 1.40033078e-02  7.55974765e-01]\n",
            " [-2.55653399e+00 -7.80431775e-01]\n",
            " [-5.14801919e-02  1.25313470e+00]\n",
            " [ 1.01415002e+00  2.38808310e-04]\n",
            " [ 1.57986086e+00 -1.22891650e+00]]\n",
            "re standardized\n",
            " [[-0.6910054   0.14908911 -0.25052419 -0.09599765]\n",
            " [ 0.30164601  1.17825867  1.74802338  1.61557119]\n",
            " [-1.15753603  0.28627875 -0.37151698 -0.11457198]\n",
            " [ 0.16403259 -0.53141401 -0.59426347 -0.60501546]\n",
            " [ 1.38286283 -1.08221252 -0.53171875 -0.79998609]]\n",
            "back computed matrix transform \n",
            " [[1.92698381 3.23573058 2.56607938 3.17899681]\n",
            " [4.90493804 4.86299054 6.02766531 7.11932418]\n",
            " [0.5273919  3.45264645 2.35651371 3.13623548]\n",
            " [4.49209777 2.15976067 1.97070548 2.00714981]\n",
            " [8.14858848 1.28887177 2.07903611 1.55829371]]\n",
            "error \n",
            " 0.31230715661105446 \n",
            "\n",
            "k= 3\n",
            "transformed matrix \n",
            " [[ 1.40033078e-02  7.55974765e-01  9.41199615e-01]\n",
            " [-2.55653399e+00 -7.80431775e-01 -1.06869861e-01]\n",
            " [-5.14801919e-02  1.25313470e+00 -3.96673397e-01]\n",
            " [ 1.01415002e+00  2.38808310e-04 -6.79886182e-01]\n",
            " [ 1.57986086e+00 -1.22891650e+00  2.42229826e-01]]\n",
            "re standardized\n",
            " [[-0.98002049 -0.62017109 -0.07334364  0.32729042]\n",
            " [ 0.33446265  1.26560542  1.72790516  1.56750834]\n",
            " [-1.03572914  0.6104874  -0.44619063 -0.29296891]\n",
            " [ 0.37280591  0.02426979 -0.72225184 -0.91078238]\n",
            " [ 1.30848108 -1.28019152 -0.48611906 -0.69104746]]\n",
            "back computed matrix transform \n",
            " [[1.05993853 2.01942341 2.8729651  4.15347913]\n",
            " [5.00338794 5.00109788 5.99281953 7.00867519]\n",
            " [0.89281257 3.96526533 2.22717516 2.72553492]\n",
            " [5.11841773 3.03837391 1.74902312 1.30322149]\n",
            " [7.92544323 0.97583947 2.1580171  1.80908927]]\n",
            "error \n",
            " 0.021071255799023046 \n",
            "\n",
            "k= 4\n",
            "transformed matrix \n",
            " [[ 1.40033078e-02  7.55974765e-01  9.41199615e-01 -1.01852226e-01]\n",
            " [-2.55653399e+00 -7.80431775e-01 -1.06869861e-01 -5.75705265e-03]\n",
            " [-5.14801919e-02  1.25313470e+00 -3.96673397e-01  1.82141242e-01]\n",
            " [ 1.01415002e+00  2.38808310e-04 -6.79886182e-01 -2.01224649e-01]\n",
            " [ 1.57986086e+00 -1.22891650e+00  2.42229826e-01  1.26692685e-01]]\n",
            "re standardized\n",
            " [[-1.00000000e+00 -6.32455532e-01  7.41378383e-16  2.60623346e-01]\n",
            " [ 3.33333333e-01  1.26491106e+00  1.73205081e+00  1.56374007e+00]\n",
            " [-1.00000000e+00  6.32455532e-01 -5.77350269e-01 -1.73748897e-01]\n",
            " [ 3.33333333e-01  6.11287142e-17 -5.77350269e-01 -1.04249338e+00]\n",
            " [ 1.33333333e+00 -1.26491106e+00 -5.77350269e-01 -6.08121140e-01]]\n",
            "back computed matrix transform \n",
            " [[1. 2. 3. 4.]\n",
            " [5. 5. 6. 7.]\n",
            " [1. 4. 2. 3.]\n",
            " [5. 3. 2. 1.]\n",
            " [8. 1. 2. 2.]]\n",
            "error \n",
            " 7.716045729193022e-31 \n",
            "\n"
          ],
          "name": "stdout"
        }
      ]
    },
    {
      "cell_type": "code",
      "metadata": {
        "colab": {
          "base_uri": "https://localhost:8080/",
          "height": 295
        },
        "id": "n9DnuwHau6-W",
        "outputId": "9f7111b1-c669-4c9f-918e-e7ff58c8cf7d"
      },
      "source": [
        "k=[1,2,3,4]\n",
        "plt.plot(k,error)\n",
        "\n",
        "plt.title(\"error vs k-principle component\")\n",
        "plt.xlabel(\"k-principle\")\n",
        "plt.ylabel(\"error\")\n",
        "plt.show()"
      ],
      "execution_count": 109,
      "outputs": [
        {
          "output_type": "display_data",
          "data": {
            "image/png": "[encoded data removed]",
            "text/plain": [
              "<Figure size 432x288 with 1 Axes>"
            ]
          },
          "metadata": {
            "tags": [],
            "needs_background": "light"
          }
        }
      ]
    },
    {
      "cell_type": "markdown",
      "metadata": {
        "id": "9e0zGGVUxeRY"
      },
      "source": [
        "## As the number of principal components increases,  real information and classification incorperated improves."
      ]
    }
  ]
}